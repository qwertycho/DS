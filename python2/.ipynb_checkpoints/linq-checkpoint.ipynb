{
 "cells": [
  {
   "cell_type": "code",
   "execution_count": 1,
   "id": "018ecf22-8b02-499b-9c7d-e2ae6509aedd",
   "metadata": {},
   "outputs": [],
   "source": [
    "import pandas as pd"
   ]
  },
  {
   "cell_type": "code",
   "execution_count": 4,
   "id": "abdee9b8-599f-471a-9f6e-8bd5679e17a8",
   "metadata": {},
   "outputs": [
    {
     "ename": "TypeError",
     "evalue": "cannot set 'Where' attribute of immutable type 'list'",
     "output_type": "error",
     "traceback": [
      "\u001b[0;31m---------------------------------------------------------------------------\u001b[0m",
      "\u001b[0;31mTypeError\u001b[0m                                 Traceback (most recent call last)",
      "Cell \u001b[0;32mIn[4], line 8\u001b[0m\n\u001b[1;32m      5\u001b[0m             found\u001b[38;5;241m.\u001b[39mappend(item)\n\u001b[1;32m      6\u001b[0m     \u001b[38;5;28;01mreturn\u001b[39;00m found\n\u001b[0;32m----> 8\u001b[0m \u001b[38;5;28;43mlist\u001b[39;49m\u001b[38;5;241;43m.\u001b[39;49m\u001b[43mWhere\u001b[49m \u001b[38;5;241m=\u001b[39m Where\n",
      "\u001b[0;31mTypeError\u001b[0m: cannot set 'Where' attribute of immutable type 'list'"
     ]
    }
   ],
   "source": [
    "\n",
    "\n",
    "list.Where = Where"
   ]
  },
  {
   "cell_type": "code",
   "execution_count": 12,
   "id": "e5666d2b-4c00-457d-b2f2-e3b11c87ed86",
   "metadata": {},
   "outputs": [
    {
     "data": {
      "text/plain": [
       "<__main__.ISearchable at 0x70feb3e698a0>"
      ]
     },
     "execution_count": 12,
     "metadata": {},
     "output_type": "execute_result"
    }
   ],
   "source": [
    "class ISearchable:\n",
    "    array = []\n",
    "    def __init__(self):\n",
    "        self.array = []\n",
    "\n",
    "    def __getitem__(self, index):\n",
    "        try:\n",
    "            return self.array[index]\n",
    "        except IndexError:\n",
    "            return \"Index out of range\"\n",
    "    \n",
    "    # This method allows you to use myclass[index] = value to set an element\n",
    "    def __setitem__(self, index, value):\n",
    "        try:\n",
    "            self.array[index] = value\n",
    "        except IndexError:\n",
    "            return \"Index out of range\"\n",
    "\n",
    "    def Append(self, item):\n",
    "        self.array.append(item)\n",
    "        return self\n",
    "\n",
    "    def Where(self, lamb):\n",
    "        found = []\n",
    "        for item in self.array:\n",
    "            if lamb(item):\n",
    "                found.append(item)\n",
    "        return found\n",
    "\n",
    "    def First(self, lmb):\n",
    "        for item in self.array:\n",
    "            if lmb(item):\n",
    "                return item\n",
    "        raise Exception(\"No item found\")\n",
    "\n",
    "    def FirstOrDefault(self, lmb, default = None)\n",
    "        for item in self.array:\n",
    "            if lmb(item):\n",
    "                return item\n",
    "        return default\n",
    "\n",
    "    def Any(self, lmb = None):\n",
    "        if lmb == None:\n",
    "            return len(self.array) > 0\n",
    "\n",
    "        for item in self.array:\n",
    "            if lmb(item):\n",
    "                return True\n",
    "        return False\n",
    "\n",
    "    def All(self, lmb):\n",
    "        for item in self.array:\n",
    "            if not lmb(item):\n",
    "                return False\n",
    "        return True\n",
    "\n",
    "l = ISearchable()\n",
    "l.Append(123)\n",
    "l.Append(234)\n",
    "l.Append(345)"
   ]
  },
  {
   "cell_type": "code",
   "execution_count": 13,
   "id": "9b99b08d-3685-457f-913d-b7a7a53d3616",
   "metadata": {},
   "outputs": [
    {
     "data": {
      "text/plain": [
       "123"
      ]
     },
     "execution_count": 13,
     "metadata": {},
     "output_type": "execute_result"
    }
   ],
   "source": [
    "l[0]"
   ]
  },
  {
   "cell_type": "code",
   "execution_count": 14,
   "id": "11562cec-0bf4-487b-880e-3ec51cc7f114",
   "metadata": {},
   "outputs": [
    {
     "data": {
      "text/plain": [
       "[234]"
      ]
     },
     "execution_count": 14,
     "metadata": {},
     "output_type": "execute_result"
    }
   ],
   "source": [
    "l.Where(lambda x : x == 234)"
   ]
  },
  {
   "cell_type": "code",
   "execution_count": null,
   "id": "0ad46f5e-94fa-4b57-9dea-317066df6690",
   "metadata": {},
   "outputs": [],
   "source": []
  }
 ],
 "metadata": {
  "kernelspec": {
   "display_name": "Python 3 (ipykernel)",
   "language": "python",
   "name": "python3"
  },
  "language_info": {
   "codemirror_mode": {
    "name": "ipython",
    "version": 3
   },
   "file_extension": ".py",
   "mimetype": "text/x-python",
   "name": "python",
   "nbconvert_exporter": "python",
   "pygments_lexer": "ipython3",
   "version": "3.10.12"
  }
 },
 "nbformat": 4,
 "nbformat_minor": 5
}
