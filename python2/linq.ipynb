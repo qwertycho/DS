{
 "cells": [
  {
   "cell_type": "code",
   "execution_count": 1,
   "id": "018ecf22-8b02-499b-9c7d-e2ae6509aedd",
   "metadata": {},
   "outputs": [],
   "source": [
    "import pandas as pd"
   ]
  },
  {
   "cell_type": "code",
   "execution_count": 22,
   "id": "abdee9b8-599f-471a-9f6e-8bd5679e17a8",
   "metadata": {},
   "outputs": [],
   "source": [
    "class P:\n",
    "    name = \"\"\n",
    "    age = 0\n",
    "    def __init__(self, name, age):\n",
    "        self.name = name\n",
    "        self.age = age"
   ]
  },
  {
   "cell_type": "code",
   "execution_count": 47,
   "id": "e5666d2b-4c00-457d-b2f2-e3b11c87ed86",
   "metadata": {},
   "outputs": [
    {
     "data": {
      "text/plain": [
       "<__main__.ISearchable at 0x70febc0ecfa0>"
      ]
     },
     "execution_count": 47,
     "metadata": {},
     "output_type": "execute_result"
    }
   ],
   "source": [
    "class ISearchable:\n",
    "    array = []\n",
    "    def __init__(self, arr = None):\n",
    "        if arr == None:\n",
    "            self.array = []\n",
    "        else:\n",
    "            self.array = arr\n",
    "\n",
    "    def __getitem__(self, index):\n",
    "        try:\n",
    "            return self.array[index]\n",
    "        except IndexError:\n",
    "            return \"Index out of range\"\n",
    "    \n",
    "    # This method allows you to use myclass[index] = value to set an element\n",
    "    def __setitem__(self, index, value):\n",
    "        try:\n",
    "            self.array[index] = value\n",
    "        except IndexError:\n",
    "            return \"Index out of range\"\n",
    "\n",
    "    def Append(self, item):\n",
    "        self.array.append(item)\n",
    "        return self\n",
    "\n",
    "    def Where(self, lamb):\n",
    "        found = []\n",
    "        for item in self.array:\n",
    "            if lamb(item):\n",
    "                found.append(item)\n",
    "        return ISearchable(found)\n",
    "\n",
    "    def First(self, lmb):\n",
    "        for item in self.array:\n",
    "            if lmb(item):\n",
    "                return item\n",
    "        raise Exception(\"No item found\")\n",
    "\n",
    "    def FirstOrDefault(self, lmb, default = None):\n",
    "        for item in self.array:\n",
    "            print(item)\n",
    "            if lmb(item):\n",
    "                return item\n",
    "        return default\n",
    "\n",
    "    def Any(self, lmb = None):\n",
    "        if lmb == None:\n",
    "            return len(self.array) > 0\n",
    "\n",
    "        for item in self.array:\n",
    "            if lmb(item):\n",
    "                return True\n",
    "        return False\n",
    "\n",
    "    def All(self, lmb):\n",
    "        for item in self.array:\n",
    "            if not lmb(item):\n",
    "                return False\n",
    "        return True\n",
    "\n",
    "    def Count(self, lmb = None):\n",
    "        if lmb == None:\n",
    "            return len(self.array)\n",
    "\n",
    "        count = 0\n",
    "        for item in self.array:\n",
    "            if lmb(item):\n",
    "                count += 1\n",
    "\n",
    "        return count\n",
    "\n",
    "    def Select(self, lmb):\n",
    "        return ISearchable([lmb(item) for item in self.array])\n",
    "\n",
    "\n",
    "l = ISearchable()\n",
    "l.Append(P(\"1\", 1))\n",
    "l.Append(P(\"2\", 2))\n",
    "l.Append(P(\"2\", 2))"
   ]
  },
  {
   "cell_type": "code",
   "execution_count": 42,
   "id": "9b99b08d-3685-457f-913d-b7a7a53d3616",
   "metadata": {},
   "outputs": [
    {
     "name": "stdout",
     "output_type": "stream",
     "text": [
      "<__main__.ISearchable object at 0x70feb3f48610>\n"
     ]
    }
   ],
   "source": [
    "print(l.Select(lambda x : x.name))"
   ]
  },
  {
   "cell_type": "code",
   "execution_count": 43,
   "id": "11562cec-0bf4-487b-880e-3ec51cc7f114",
   "metadata": {},
   "outputs": [
    {
     "data": {
      "text/plain": [
       "[<__main__.P at 0x70feb3f35030>, <__main__.P at 0x70feb3f35000>]"
      ]
     },
     "execution_count": 43,
     "metadata": {},
     "output_type": "execute_result"
    }
   ],
   "source": [
    "l.Where(lambda x : x.name == \"2\")"
   ]
  },
  {
   "cell_type": "code",
   "execution_count": 44,
   "id": "0ad46f5e-94fa-4b57-9dea-317066df6690",
   "metadata": {},
   "outputs": [
    {
     "data": {
      "text/plain": [
       "'0'"
      ]
     },
     "execution_count": 44,
     "metadata": {},
     "output_type": "execute_result"
    }
   ],
   "source": [
    "l.Test(lambda x :x )"
   ]
  },
  {
   "cell_type": "code",
   "execution_count": 49,
   "id": "bdaa2701-64e1-4838-8aa0-d9c3f5360197",
   "metadata": {},
   "outputs": [
    {
     "data": {
      "text/plain": [
       "<__main__.ISearchable at 0x70feb3f2d630>"
      ]
     },
     "execution_count": 49,
     "metadata": {},
     "output_type": "execute_result"
    }
   ],
   "source": [
    "l.Where(lambda x : x.age > 0).Select(lambda x : x.age)"
   ]
  },
  {
   "cell_type": "code",
   "execution_count": null,
   "id": "38113e1a-e804-49df-9601-75cd552dd922",
   "metadata": {},
   "outputs": [],
   "source": []
  }
 ],
 "metadata": {
  "kernelspec": {
   "display_name": "Python 3 (ipykernel)",
   "language": "python",
   "name": "python3"
  },
  "language_info": {
   "codemirror_mode": {
    "name": "ipython",
    "version": 3
   },
   "file_extension": ".py",
   "mimetype": "text/x-python",
   "name": "python",
   "nbconvert_exporter": "python",
   "pygments_lexer": "ipython3",
   "version": "3.10.12"
  }
 },
 "nbformat": 4,
 "nbformat_minor": 5
}
