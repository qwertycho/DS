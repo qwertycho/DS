{
 "cells": [
  {
   "cell_type": "code",
   "execution_count": 1,
   "id": "d3b04df9-4be1-4e92-a181-e5833d58d8cf",
   "metadata": {},
   "outputs": [],
   "source": [
    "def read_alias(path):\n",
    "    dict = {}\n",
    "    data = None\n",
    "    with open(path, 'r') as file:\n",
    "        data = json.load(file)\n",
    "        for product in data:\n",
    "            for alias in data[product]:\n",
    "                dict[alias] = product\n",
    "    return dict\n",
    "\n",
    "def get_cleaned_name(name, dict):\n",
    "    if name in dict:\n",
    "        return dict[name].upper()\n",
    "    else:\n",
    "        return name.upper()"
   ]
  },
  {
   "cell_type": "code",
   "execution_count": 2,
   "id": "2c439669-3dee-4517-95c7-cc3a30e1fe9a",
   "metadata": {},
   "outputs": [],
   "source": [
    "def create_db(name : str, cursor):\n",
    "    CREATE_ORDER_TABLE = \"\"\"\n",
    "    CREATE TABLE \"OrderLines\" (\n",
    "\t\"OrderlineID\"\tINTEGER,\n",
    "\t\"OrderID\"\tINTEGER,\n",
    "\t\"CustomerID\"\tNUMERIC,\n",
    "\t\"Date\"\tTEXT,\n",
    "\t\"Product\"\tTEXT,\n",
    "    \"ProductName\"\tTEXT,\n",
    "\t\"Amount\"\tREAL\n",
    "    );\n",
    "    \"\"\"\n",
    "    \n",
    "    CREATE_PRODUCT_TABLE = \"\"\"\n",
    "    CREATE TABLE \"ProductInfo\" (\n",
    "    \t\"ProductID\"\tINTEGER,\n",
    "    \t\"ProductName\"\tTEXT,\n",
    "    \t\"ProductType\"\tTEXT,\n",
    "    \t\"CostPrice\"\tREAL,\n",
    "    \t\"SalesPrice\"\tREAL\n",
    "    );\n",
    "    \"\"\"\n",
    "    cursor.execute(CREATE_ORDER_TABLE)\n",
    "    cursor.execute(CREATE_PRODUCT_TABLE)\n",
    "    print(\"db created\")\n",
    "\n",
    "def insert_products_db(dataframe, cursor):\n",
    "    INSERT_PRODUCT_SQL = \"INSERT INTO ProductInfo (ProductID,ProductName,ProductType, CostPrice, SalesPrice) VALUES (?,?,?,?,?)\"\n",
    "    for p in dataframe:\n",
    "        cursor.execute(INSERT_PRODUCT_SQL, (p[\"ProductID\"],p[\"ProductName\"],p[\"ProductType\"],p[\"CostPrice\"],p[\"SalesPrice\"]))\n",
    "    \n",
    "    \n",
    "def insert_orders_db(dataframe, names : dict, cursor):\n",
    "    INSERT_ORDER_LINE = \"\"\" INSERT INTO OrderLines (OrderlineID, OrderID, CustomerID, Date, Product, ProductName, Amount) VALUES (?,?,?,?,?,?,?)\"\"\"\n",
    "    for line in dataframe:\n",
    "        ProductName = get_cleaned_name(line[\"Product\"], names)\n",
    "        cursor.execute(INSERT_ORDER_LINE, (line[\"OrderlineID\"], line[\"OrderID\"], line[\"CustomerID\"], line[\"Date\"], line[\"Product\"], ProductName, line[\"Amount\"]))\n"
   ]
  },
  {
   "cell_type": "code",
   "execution_count": 3,
   "id": "696c7fb3-9bb5-4d03-bb27-5780a94a1c11",
   "metadata": {},
   "outputs": [],
   "source": [
    "def update_price_db(id : int, price: float, cursor):\n",
    "    sql = \"UPDATE ProductInfo set SalesPrice = ? WHERE ProductID = ?\"\n",
    "    cursor.execute(sql, (price, id))"
   ]
  },
  {
   "cell_type": "code",
   "execution_count": 5,
   "id": "24fcffca-1f64-4c2e-a85e-d99d6b0bf62d",
   "metadata": {},
   "outputs": [
    {
     "name": "stdout",
     "output_type": "stream",
     "text": [
      "db created\n",
      "db created\n"
     ]
    }
   ],
   "source": [
    "import sqlite3\n",
    "import json\n",
    "import pandas as pd\n",
    "import os\n",
    "\n",
    "orderlines = pd.read_csv(\"OrderLines.csv\").to_dict(orient='records')\n",
    "names = read_alias(\"know_alias.json\")\n",
    "\n",
    "\n",
    "conn = None\n",
    "cursor = None\n",
    "\n",
    "if os.path.isfile(\"test.db\"):\n",
    "    print(\"db bestaat al!\")\n",
    "    conn = sqlite3.connect(\"test.db\")\n",
    "    cursor = conn.cursor()\n",
    "else:\n",
    "    #maak een nieuwe database aan met de tabellen\n",
    "    conn = sqlite3.connect(\"test.db\")\n",
    "    cursor = conn.cursor()\n",
    "    create_db(\"test.db\", cursor)\n",
    "    #sla op\n",
    "    conn.commit()\n",
    "    print(\"db created\")\n",
    "\n",
    "#de orderlines inserten\n",
    "#deze functie normaliseerd de ProductNames\n",
    "insert_orders_db(orderlines, names, cursor)\n",
    "#opslaan\n",
    "conn.commit()\n",
    "\n",
    "products = pd.read_csv(\"ProductInfo.csv\", delimiter=\";\").to_dict(orient='records')\n",
    "insert_products_db(products, cursor)\n",
    "conn.commit()\n",
    "\n",
    "\n",
    "#db connectie sluiten\n",
    "conn.close()"
   ]
  },
  {
   "cell_type": "code",
   "execution_count": null,
   "id": "be00c30c-28ef-495a-91bb-810e18c597a4",
   "metadata": {},
   "outputs": [],
   "source": []
  }
 ],
 "metadata": {
  "kernelspec": {
   "display_name": "Python 3 (ipykernel)",
   "language": "python",
   "name": "python3"
  },
  "language_info": {
   "codemirror_mode": {
    "name": "ipython",
    "version": 3
   },
   "file_extension": ".py",
   "mimetype": "text/x-python",
   "name": "python",
   "nbconvert_exporter": "python",
   "pygments_lexer": "ipython3",
   "version": "3.10.12"
  }
 },
 "nbformat": 4,
 "nbformat_minor": 5
}
